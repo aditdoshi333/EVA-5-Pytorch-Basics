{
  "nbformat": 4,
  "nbformat_minor": 0,
  "metadata": {
    "colab": {
      "name": "Eva session 3 PyTorch",
      "provenance": [],
      "collapsed_sections": []
    },
    "kernelspec": {
      "name": "python3",
      "display_name": "Python 3"
    },
    "accelerator": "GPU",
    "widgets": {
      "application/vnd.jupyter.widget-state+json": {
        "f8ad5da0796640e08a4661664d669370": {
          "model_module": "@jupyter-widgets/controls",
          "model_name": "HBoxModel",
          "state": {
            "_view_name": "HBoxView",
            "_dom_classes": [],
            "_model_name": "HBoxModel",
            "_view_module": "@jupyter-widgets/controls",
            "_model_module_version": "1.5.0",
            "_view_count": null,
            "_view_module_version": "1.5.0",
            "box_style": "",
            "layout": "IPY_MODEL_65abddf2a95546b4b0e55d1860902bbd",
            "_model_module": "@jupyter-widgets/controls",
            "children": [
              "IPY_MODEL_633343dc8cf94bd09f27db40fd61fbd8",
              "IPY_MODEL_661392ab8d324e1dae6e8008efd723e2"
            ]
          }
        },
        "65abddf2a95546b4b0e55d1860902bbd": {
          "model_module": "@jupyter-widgets/base",
          "model_name": "LayoutModel",
          "state": {
            "_view_name": "LayoutView",
            "grid_template_rows": null,
            "right": null,
            "justify_content": null,
            "_view_module": "@jupyter-widgets/base",
            "overflow": null,
            "_model_module_version": "1.2.0",
            "_view_count": null,
            "flex_flow": null,
            "width": null,
            "min_width": null,
            "border": null,
            "align_items": null,
            "bottom": null,
            "_model_module": "@jupyter-widgets/base",
            "top": null,
            "grid_column": null,
            "overflow_y": null,
            "overflow_x": null,
            "grid_auto_flow": null,
            "grid_area": null,
            "grid_template_columns": null,
            "flex": null,
            "_model_name": "LayoutModel",
            "justify_items": null,
            "grid_row": null,
            "max_height": null,
            "align_content": null,
            "visibility": null,
            "align_self": null,
            "height": null,
            "min_height": null,
            "padding": null,
            "grid_auto_rows": null,
            "grid_gap": null,
            "max_width": null,
            "order": null,
            "_view_module_version": "1.2.0",
            "grid_template_areas": null,
            "object_position": null,
            "object_fit": null,
            "grid_auto_columns": null,
            "margin": null,
            "display": null,
            "left": null
          }
        },
        "633343dc8cf94bd09f27db40fd61fbd8": {
          "model_module": "@jupyter-widgets/controls",
          "model_name": "FloatProgressModel",
          "state": {
            "_view_name": "ProgressView",
            "style": "IPY_MODEL_1140066daa834f728569f41b653ac071",
            "_dom_classes": [],
            "description": "",
            "_model_name": "FloatProgressModel",
            "bar_style": "info",
            "max": 1,
            "_view_module": "@jupyter-widgets/controls",
            "_model_module_version": "1.5.0",
            "value": 1,
            "_view_count": null,
            "_view_module_version": "1.5.0",
            "orientation": "horizontal",
            "min": 0,
            "description_tooltip": null,
            "_model_module": "@jupyter-widgets/controls",
            "layout": "IPY_MODEL_a6fd3a2803b04d1f93ac6f0f9111123f"
          }
        },
        "661392ab8d324e1dae6e8008efd723e2": {
          "model_module": "@jupyter-widgets/controls",
          "model_name": "HTMLModel",
          "state": {
            "_view_name": "HTMLView",
            "style": "IPY_MODEL_8335be2c4fd542428d76874fda6abeec",
            "_dom_classes": [],
            "description": "",
            "_model_name": "HTMLModel",
            "placeholder": "​",
            "_view_module": "@jupyter-widgets/controls",
            "_model_module_version": "1.5.0",
            "value": " 561758208/? [00:20&lt;00:00, 77932492.47it/s]",
            "_view_count": null,
            "_view_module_version": "1.5.0",
            "description_tooltip": null,
            "_model_module": "@jupyter-widgets/controls",
            "layout": "IPY_MODEL_5a533bb660a648eab49b953950898c63"
          }
        },
        "1140066daa834f728569f41b653ac071": {
          "model_module": "@jupyter-widgets/controls",
          "model_name": "ProgressStyleModel",
          "state": {
            "_view_name": "StyleView",
            "_model_name": "ProgressStyleModel",
            "description_width": "initial",
            "_view_module": "@jupyter-widgets/base",
            "_model_module_version": "1.5.0",
            "_view_count": null,
            "_view_module_version": "1.2.0",
            "bar_color": null,
            "_model_module": "@jupyter-widgets/controls"
          }
        },
        "a6fd3a2803b04d1f93ac6f0f9111123f": {
          "model_module": "@jupyter-widgets/base",
          "model_name": "LayoutModel",
          "state": {
            "_view_name": "LayoutView",
            "grid_template_rows": null,
            "right": null,
            "justify_content": null,
            "_view_module": "@jupyter-widgets/base",
            "overflow": null,
            "_model_module_version": "1.2.0",
            "_view_count": null,
            "flex_flow": null,
            "width": null,
            "min_width": null,
            "border": null,
            "align_items": null,
            "bottom": null,
            "_model_module": "@jupyter-widgets/base",
            "top": null,
            "grid_column": null,
            "overflow_y": null,
            "overflow_x": null,
            "grid_auto_flow": null,
            "grid_area": null,
            "grid_template_columns": null,
            "flex": null,
            "_model_name": "LayoutModel",
            "justify_items": null,
            "grid_row": null,
            "max_height": null,
            "align_content": null,
            "visibility": null,
            "align_self": null,
            "height": null,
            "min_height": null,
            "padding": null,
            "grid_auto_rows": null,
            "grid_gap": null,
            "max_width": null,
            "order": null,
            "_view_module_version": "1.2.0",
            "grid_template_areas": null,
            "object_position": null,
            "object_fit": null,
            "grid_auto_columns": null,
            "margin": null,
            "display": null,
            "left": null
          }
        },
        "8335be2c4fd542428d76874fda6abeec": {
          "model_module": "@jupyter-widgets/controls",
          "model_name": "DescriptionStyleModel",
          "state": {
            "_view_name": "StyleView",
            "_model_name": "DescriptionStyleModel",
            "description_width": "",
            "_view_module": "@jupyter-widgets/base",
            "_model_module_version": "1.5.0",
            "_view_count": null,
            "_view_module_version": "1.2.0",
            "_model_module": "@jupyter-widgets/controls"
          }
        },
        "5a533bb660a648eab49b953950898c63": {
          "model_module": "@jupyter-widgets/base",
          "model_name": "LayoutModel",
          "state": {
            "_view_name": "LayoutView",
            "grid_template_rows": null,
            "right": null,
            "justify_content": null,
            "_view_module": "@jupyter-widgets/base",
            "overflow": null,
            "_model_module_version": "1.2.0",
            "_view_count": null,
            "flex_flow": null,
            "width": null,
            "min_width": null,
            "border": null,
            "align_items": null,
            "bottom": null,
            "_model_module": "@jupyter-widgets/base",
            "top": null,
            "grid_column": null,
            "overflow_y": null,
            "overflow_x": null,
            "grid_auto_flow": null,
            "grid_area": null,
            "grid_template_columns": null,
            "flex": null,
            "_model_name": "LayoutModel",
            "justify_items": null,
            "grid_row": null,
            "max_height": null,
            "align_content": null,
            "visibility": null,
            "align_self": null,
            "height": null,
            "min_height": null,
            "padding": null,
            "grid_auto_rows": null,
            "grid_gap": null,
            "max_width": null,
            "order": null,
            "_view_module_version": "1.2.0",
            "grid_template_areas": null,
            "object_position": null,
            "object_fit": null,
            "grid_auto_columns": null,
            "margin": null,
            "display": null,
            "left": null
          }
        }
      }
    }
  },
  "cells": [
    {
      "cell_type": "code",
      "metadata": {
        "id": "GHcLFy1vrXhc"
      },
      "source": [
        "import torch\r\n",
        "import torchvision # provide access to datasets, models, transforms, utils, etc\r\n",
        "import torchvision.transforms as transforms\r\n",
        "import numpy as np\r\n",
        "import matplotlib.pyplot as plt\r\n"
      ],
      "execution_count": 1,
      "outputs": []
    },
    {
      "cell_type": "markdown",
      "metadata": {
        "id": "jjHEyJNtS6GP"
      },
      "source": [
        "torch.utils.data.DataLoader is an iterator which provides all these features:\r\n",
        "\r\n",
        "1.Batching the data\r\n",
        "\r\n",
        "2.Shuffling the data\r\n",
        "\r\n",
        "3.Load the data in parallel using multiprocessing workers."
      ]
    },
    {
      "cell_type": "markdown",
      "metadata": {
        "id": "V8bvIA7BTEAo"
      },
      "source": [
        "Here we are using two dataloaders. One for train data and other one for test data."
      ]
    },
    {
      "cell_type": "code",
      "metadata": {
        "colab": {
          "base_uri": "https://localhost:8080/",
          "height": 277,
          "referenced_widgets": [
            "f8ad5da0796640e08a4661664d669370",
            "65abddf2a95546b4b0e55d1860902bbd",
            "633343dc8cf94bd09f27db40fd61fbd8",
            "661392ab8d324e1dae6e8008efd723e2",
            "1140066daa834f728569f41b653ac071",
            "a6fd3a2803b04d1f93ac6f0f9111123f",
            "8335be2c4fd542428d76874fda6abeec",
            "5a533bb660a648eab49b953950898c63"
          ]
        },
        "id": "N0r7q_TFrcXR",
        "outputId": "7f43e58f-94bc-464f-9c0b-21129b60ec42"
      },
      "source": [
        "train_loader = torch.utils.data.DataLoader(\r\n",
        "  torchvision.datasets.EMNIST('/files/', train=True, download=True, split='byclass',\r\n",
        "                             transform=torchvision.transforms.Compose([\r\n",
        "                               torchvision.transforms.ToTensor(),\r\n",
        "                               torchvision.transforms.Normalize(\r\n",
        "                                 (0.1307,), (0.3081,))\r\n",
        "                             ])),\r\n",
        "  batch_size=64, shuffle=True)\r\n",
        "\r\n",
        "test_loader = torch.utils.data.DataLoader(\r\n",
        "  torchvision.datasets.EMNIST('/files/', train=False, download=True, split='byclass',\r\n",
        "                             transform=torchvision.transforms.Compose([\r\n",
        "                               torchvision.transforms.ToTensor(),\r\n",
        "                               torchvision.transforms.Normalize(\r\n",
        "                                 (0.1307,), (0.3081,))\r\n",
        "                             ])),\r\n",
        "  batch_size=64, shuffle=True)"
      ],
      "execution_count": 2,
      "outputs": [
        {
          "output_type": "stream",
          "text": [
            "Downloading and extracting zip archive\n",
            "Downloading http://www.itl.nist.gov/iaui/vip/cs_links/EMNIST/gzip.zip to /files/EMNIST/raw/emnist.zip\n"
          ],
          "name": "stdout"
        },
        {
          "output_type": "display_data",
          "data": {
            "application/vnd.jupyter.widget-view+json": {
              "model_id": "f8ad5da0796640e08a4661664d669370",
              "version_minor": 0,
              "version_major": 2
            },
            "text/plain": [
              "HBox(children=(FloatProgress(value=1.0, bar_style='info', max=1.0), HTML(value='')))"
            ]
          },
          "metadata": {
            "tags": []
          }
        },
        {
          "output_type": "stream",
          "text": [
            "Extracting /files/EMNIST/raw/emnist.zip to /files/EMNIST/raw\n",
            "Processing byclass\n"
          ],
          "name": "stdout"
        },
        {
          "output_type": "stream",
          "text": [
            "/usr/local/lib/python3.6/dist-packages/torchvision/datasets/mnist.py:480: UserWarning: The given NumPy array is not writeable, and PyTorch does not support non-writeable tensors. This means you can write to the underlying (supposedly non-writeable) NumPy array using the tensor. You may want to copy the array to protect its data or make it writeable before converting it to a tensor. This type of warning will be suppressed for the rest of this program. (Triggered internally at  /pytorch/torch/csrc/utils/tensor_numpy.cpp:141.)\n",
            "  return torch.from_numpy(parsed.astype(m[2], copy=False)).view(*s)\n"
          ],
          "name": "stderr"
        },
        {
          "output_type": "stream",
          "text": [
            "Processing bymerge\n",
            "Processing balanced\n",
            "Processing letters\n",
            "Processing digits\n",
            "Processing mnist\n",
            "Done!\n"
          ],
          "name": "stdout"
        }
      ]
    },
    {
      "cell_type": "markdown",
      "metadata": {
        "id": "IS3sKIwcTPMo"
      },
      "source": [
        "Just looking at a sample batch from data loader"
      ]
    },
    {
      "cell_type": "code",
      "metadata": {
        "colab": {
          "base_uri": "https://localhost:8080/"
        },
        "id": "GIdVDas0sAmn",
        "outputId": "0aedaf3c-6c79-4176-e9bb-8bf9f6e85786"
      },
      "source": [
        "batch = next(iter(train_loader))\r\n",
        "images, labels = batch\r\n",
        "images.shape, labels.shape"
      ],
      "execution_count": 3,
      "outputs": [
        {
          "output_type": "execute_result",
          "data": {
            "text/plain": [
              "(torch.Size([64, 1, 28, 28]), torch.Size([64]))"
            ]
          },
          "metadata": {
            "tags": []
          },
          "execution_count": 3
        }
      ]
    },
    {
      "cell_type": "code",
      "metadata": {
        "colab": {
          "base_uri": "https://localhost:8080/",
          "height": 153
        },
        "id": "-I_Bm-w8w31V",
        "outputId": "36c5b6db-0726-4e12-bf6f-ed9851768ebd"
      },
      "source": [
        "grid = torchvision.utils.make_grid(images, nrow=64)\r\n",
        "plt.figure(figsize=(15,15))\r\n",
        "plt.imshow(np.transpose(grid, (1,2,0)))\r\n",
        "print('labels:', labels)"
      ],
      "execution_count": 4,
      "outputs": [
        {
          "output_type": "stream",
          "text": [
            "Clipping input data to the valid range for imshow with RGB data ([0..1] for floats or [0..255] for integers).\n"
          ],
          "name": "stderr"
        },
        {
          "output_type": "stream",
          "text": [
            "labels: tensor([53, 61,  9, 47, 37,  8, 28, 30, 12,  1, 11, 45, 24, 36, 55,  1, 24,  5,\n",
            "         6, 44, 23, 18, 49,  7, 29,  0, 18, 44,  1,  4,  7, 55,  9, 24, 49, 37,\n",
            "        30, 42,  5, 24, 39,  6,  4, 55,  0, 36,  3, 55,  1, 55, 55,  0,  0,  7,\n",
            "         4, 23,  0, 43,  8,  9,  4, 43,  6,  3])\n"
          ],
          "name": "stdout"
        },
        {
          "output_type": "display_data",
          "data": {
            "image/png": "[encoded data removed]",
            "text/plain": [
              "<Figure size 1080x1080 with 1 Axes>"
            ]
          },
          "metadata": {
            "tags": [],
            "needs_background": "light"
          }
        }
      ]
    },
    {
      "cell_type": "markdown",
      "metadata": {
        "id": "p0QtuYKRTVtu"
      },
      "source": [
        "## Neural Network"
      ]
    },
    {
      "cell_type": "code",
      "metadata": {
        "id": "idDVBQruxxFd"
      },
      "source": [
        "import torch.nn.functional as F\r\n",
        "import torch.nn as nn\r\n",
        "\r\n",
        "\r\n",
        "class Network(nn.Module):\r\n",
        "    def __init__(self):\r\n",
        "        super().__init__()\r\n",
        "        # Conv1 block\r\n",
        "        # Input dim (1,28,28)\r\n",
        "        # Output dim (10,26,26)\r\n",
        "        # RF 3\r\n",
        "        self.conv1 = nn.Conv2d(in_channels=1, out_channels=10, kernel_size=3)\r\n",
        "\r\n",
        "        # Conv2 block\r\n",
        "        # Input dim (10,26,26)\r\n",
        "        # Output dim (10,24,24)\r\n",
        "        # RF 5\r\n",
        "        \r\n",
        "        self.conv2 = nn.Conv2d(in_channels=10, out_channels=10, kernel_size=3)\r\n",
        "\r\n",
        "        # Conv3 block\r\n",
        "        # Input dim (10,24,24)\r\n",
        "        # Output dim (20,22,22)\r\n",
        "        # RF 7\r\n",
        "        \r\n",
        "        self.conv3 = nn.Conv2d(in_channels=10, out_channels=20, kernel_size=3)\r\n",
        "\r\n",
        "        # Conv4 block\r\n",
        "        # Input dim (20,11,11) Because of Max pooling size is halfed\r\n",
        "        # Output dim (20,9,9)\r\n",
        "        # RF 16 Because of max pooling RF is doubled (Approx)\r\n",
        "        \r\n",
        "        self.conv4 = nn.Conv2d(in_channels=20, out_channels=20, kernel_size=3)\r\n",
        "\r\n",
        "        # Conv5 block\r\n",
        "        # Input dim (20,9,9)\r\n",
        "        # Output dim (30,7,7)\r\n",
        "        # RF 18\r\n",
        "        \r\n",
        "        self.conv5 = nn.Conv2d(in_channels=20, out_channels=30, kernel_size=3)\r\n",
        "\r\n",
        "        # Conv6 block\r\n",
        "        # Input dim (30,7,7)\r\n",
        "        # Output dim (62,5,5)\r\n",
        "        # RF 20\r\n",
        "        \r\n",
        "        self.conv6 = nn.Conv2d(in_channels=30, out_channels=62, kernel_size=3)\r\n",
        "        self.out= nn.AvgPool2d(5)\r\n",
        "\r\n",
        "\r\n",
        "\r\n",
        "        \r\n",
        "\r\n",
        "    def forward(self, t):\r\n",
        "        t = t\r\n",
        "\r\n",
        "        t = self.conv1(t)\r\n",
        "        t = F.relu(t)\r\n",
        "\r\n",
        "        t = self.conv2(t)\r\n",
        "        t = F.relu(t)\r\n",
        "\r\n",
        "        t = self.conv3(t)\r\n",
        "        t = F.relu(t)\r\n",
        "        t = F.max_pool2d(t, kernel_size=2, stride=2)\r\n",
        "\r\n",
        "        t = self.conv4(t)\r\n",
        "        t = F.relu(t)\r\n",
        "\r\n",
        "        t = self.conv5(t)\r\n",
        "        t = F.relu(t)\r\n",
        "\r\n",
        "        t = self.conv6(t)\r\n",
        "\r\n",
        "        t = self.out(t)\r\n",
        "        t = F.softmax(t.view(-1,62), dim=1)\r\n",
        "\r\n",
        "        return t"
      ],
      "execution_count": 5,
      "outputs": []
    },
    {
      "cell_type": "markdown",
      "metadata": {
        "id": "T786tvjFTqD4"
      },
      "source": [
        "We are fixing the parameters of the training like nos of epochs, learning rate, type of optimizer. Also we are using torch.device() just to check that GPU is avail or not. If yes the training will be done on GPU or else CPU."
      ]
    },
    {
      "cell_type": "code",
      "metadata": {
        "id": "KHP7oF4dMTZ3"
      },
      "source": [
        "import torch.optim as optim\r\n",
        "\r\n",
        "torch.set_grad_enabled(True)\r\n",
        "\r\n",
        "n_epochs = 25\r\n",
        "learning_rate = 0.01\r\n",
        "momentum = 0.5\r\n",
        "use_cuda = torch.cuda.is_available()\r\n",
        "device = torch.device(\"cuda\" if use_cuda else \"cpu\")\r\n",
        "network = Network().to(device)\r\n",
        "optimizer = optim.SGD(network.parameters(), lr=learning_rate,\r\n",
        "                      momentum=momentum)\r\n"
      ],
      "execution_count": 6,
      "outputs": []
    },
    {
      "cell_type": "code",
      "metadata": {
        "id": "X3iW3cRhJ9gM"
      },
      "source": [
        "def get_num_correct(preds, labels):\r\n",
        "  return preds.argmax(dim=1).eq(labels).sum().item()"
      ],
      "execution_count": 7,
      "outputs": []
    },
    {
      "cell_type": "markdown",
      "metadata": {
        "id": "QMyVLiAcUViF"
      },
      "source": [
        "For every epoch, model will look at all the batches from dataloader. After every batch the model performs backprop and learns. So for every epoch, the model looks at the whole training data (in form of batches) and learns batch by batch. For every epoch we are calculating train error as well as test error. In test dataset we are not doing back prop. We are not learning we are just checking how good the model is able to learn."
      ]
    },
    {
      "cell_type": "code",
      "metadata": {
        "colab": {
          "base_uri": "https://localhost:8080/"
        },
        "id": "WF7V_qjGCDdt",
        "outputId": "0851650e-4685-4c6f-b5fc-8fc0c3dc7c8c"
      },
      "source": [
        "for epoch in range(25):\r\n",
        "\r\n",
        "    total_loss = 0\r\n",
        "    total_correct = 0\r\n",
        "\r\n",
        "    for batch in train_loader: # Get Batch\r\n",
        "        images, labels = batch\r\n",
        "        images, labels = images.to(device), labels.to(device) \r\n",
        "\r\n",
        "        preds = network(images) # Pass Batch\r\n",
        "        loss = F.cross_entropy(preds, labels) # Calculate Loss\r\n",
        "\r\n",
        "        optimizer.zero_grad()\r\n",
        "        loss.backward() # Calculate Gradients\r\n",
        "        optimizer.step() # Update Weights\r\n",
        "\r\n",
        "        total_loss += loss.item()\r\n",
        "        total_correct += get_num_correct(preds, labels)\r\n",
        "\r\n",
        "    print(\r\n",
        "        \"epoch\", epoch, \r\n",
        "        \"total_correct:\", total_correct, \r\n",
        "        \"loss:\", total_loss\r\n",
        "    )\r\n",
        "\r\n",
        "    network.eval()\r\n",
        "    test_loss = 0\r\n",
        "    correct = 0\r\n",
        "    with torch.no_grad():\r\n",
        "      for batch in test_loader: # Get Batch\r\n",
        "        \r\n",
        "          images, labels = batch\r\n",
        "          images, labels = images.to(device), labels.to(device) \r\n",
        "\r\n",
        "          preds = network(images) # Pass Batch\r\n",
        "          loss = F.cross_entropy(preds, labels) # Calculate Loss\r\n",
        "\r\n",
        "          test_loss += loss.item()\r\n",
        "          correct += get_num_correct(preds, labels)\r\n",
        "      print(\r\n",
        "        \"epoch\", epoch, \r\n",
        "        \"Test_correct:\", correct, \r\n",
        "        \"test_loss:\", test_loss\r\n",
        "    )\r\n",
        "\r\n"
      ],
      "execution_count": 10,
      "outputs": [
        {
          "output_type": "stream",
          "text": [
            "epoch 0 total_correct: 197321 loss: 42222.64475989342\n",
            "epoch 0 Test_correct: 33654 test_loss: 7026.3868227005005\n",
            "epoch 1 total_correct: 203162 loss: 42129.54753804207\n",
            "epoch 1 Test_correct: 39581 test_loss: 6934.383509397507\n",
            "epoch 2 total_correct: 239804 loss: 41559.46969294548\n",
            "epoch 2 Test_correct: 42386 test_loss: 6889.964714765549\n",
            "epoch 3 total_correct: 260906 loss: 41230.16518521309\n",
            "epoch 3 Test_correct: 44277 test_loss: 6860.572483301163\n",
            "epoch 4 total_correct: 269635 loss: 41092.42367219925\n",
            "epoch 4 Test_correct: 46088 test_loss: 6831.812925338745\n",
            "epoch 5 total_correct: 277976 loss: 40962.5950255394\n",
            "epoch 5 Test_correct: 46678 test_loss: 6822.618691444397\n",
            "epoch 6 total_correct: 282853 loss: 40886.29169178009\n",
            "epoch 6 Test_correct: 47627 test_loss: 6807.948832988739\n",
            "epoch 7 total_correct: 285141 loss: 40850.120033979416\n",
            "epoch 7 Test_correct: 47823 test_loss: 6804.892769575119\n",
            "epoch 8 total_correct: 285827 loss: 40839.85155701637\n",
            "epoch 8 Test_correct: 47901 test_loss: 6803.569560289383\n",
            "epoch 9 total_correct: 286220 loss: 40832.360530376434\n",
            "epoch 9 Test_correct: 47887 test_loss: 6804.268180131912\n",
            "epoch 10 total_correct: 301699 loss: 40591.237340927124\n",
            "epoch 10 Test_correct: 51624 test_loss: 6745.535738229752\n",
            "epoch 11 total_correct: 309723 loss: 40466.33010625839\n",
            "epoch 11 Test_correct: 51850 test_loss: 6741.8136529922485\n",
            "epoch 12 total_correct: 310159 loss: 40458.03857898712\n",
            "epoch 12 Test_correct: 51504 test_loss: 6747.476511001587\n",
            "epoch 13 total_correct: 310546 loss: 40452.6998128891\n",
            "epoch 13 Test_correct: 52005 test_loss: 6739.360556840897\n",
            "epoch 14 total_correct: 310827 loss: 40447.67719364166\n",
            "epoch 14 Test_correct: 52054 test_loss: 6738.48192358017\n",
            "epoch 15 total_correct: 311209 loss: 40442.453448057175\n",
            "epoch 15 Test_correct: 52104 test_loss: 6737.991358995438\n",
            "epoch 16 total_correct: 317485 loss: 40344.7502515316\n",
            "epoch 16 Test_correct: 53447 test_loss: 6717.14098405838\n",
            "epoch 17 total_correct: 319762 loss: 40309.62484884262\n",
            "epoch 17 Test_correct: 53481 test_loss: 6716.522884607315\n",
            "epoch 18 total_correct: 319964 loss: 40305.342960357666\n",
            "epoch 18 Test_correct: 53354 test_loss: 6718.3874089717865\n",
            "epoch 19 total_correct: 320156 loss: 40302.719628334045\n",
            "epoch 19 Test_correct: 53310 test_loss: 6719.661602497101\n",
            "epoch 20 total_correct: 320237 loss: 40301.20600271225\n",
            "epoch 20 Test_correct: 53340 test_loss: 6718.597584486008\n",
            "epoch 21 total_correct: 320553 loss: 40296.552102565765\n",
            "epoch 21 Test_correct: 53506 test_loss: 6716.251446008682\n",
            "epoch 22 total_correct: 320707 loss: 40293.49611234665\n",
            "epoch 22 Test_correct: 53472 test_loss: 6716.345113039017\n",
            "epoch 23 total_correct: 320820 loss: 40292.17954158783\n",
            "epoch 23 Test_correct: 53683 test_loss: 6713.429773807526\n",
            "epoch 24 total_correct: 320943 loss: 40290.18866491318\n",
            "epoch 24 Test_correct: 53611 test_loss: 6714.332275629044\n"
          ],
          "name": "stdout"
        }
      ]
    },
    {
      "cell_type": "code",
      "metadata": {
        "id": "6H93KoVxL3TH"
      },
      "source": [
        ""
      ],
      "execution_count": null,
      "outputs": []
    }
  ]
}